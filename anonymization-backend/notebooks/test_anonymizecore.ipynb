{
 "cells": [
  {
   "cell_type": "code",
   "execution_count": 1,
   "metadata": {},
   "outputs": [],
   "source": [
    "import sys\n",
    "import os\n",
    "import importlib\n",
    "sys.path.append(os.path.abspath(\"..\"))  # <-- pas /app, juste le parent\n",
    "\n",
    "from app.services.anonymization import anonymization_methods\n",
    "importlib.reload(anonymization_methods)\n",
    "from app.services.anonymization.anonymization_core import AnonymizerCore\n",
    "\n"
   ]
  },
  {
   "cell_type": "code",
   "execution_count": 2,
   "metadata": {},
   "outputs": [
    {
     "name": "stdout",
     "output_type": "stream",
     "text": [
      "c:\\Users\\charl\\Downloads\\Pseudonymisation-master\\anonymization-backend\\notebooks\n"
     ]
    }
   ],
   "source": [
    "import os\n",
    "print(os.getcwd())\n"
   ]
  },
  {
   "cell_type": "code",
   "execution_count": 3,
   "metadata": {},
   "outputs": [],
   "source": [
    "instructions = [\n",
    "    {\n",
    "        \"table\": \"data\",\n",
    "        \"column\": \"nom\",\n",
    "        \"moteur\": \"masquage\"\n",
    "    }\n",
    "]\n"
   ]
  },
  {
   "cell_type": "code",
   "execution_count": 4,
   "metadata": {},
   "outputs": [
    {
     "name": "stdout",
     "output_type": "stream",
     "text": [
      "Chemin complet utilisé pour charger le fichier : c:\\Users\\charl\\Downloads\\Pseudonymisation-master\\anonymization-backend\\data\\data.csv\n",
      "Table 'data' chargée avec succès. ['data']\n",
      "Index(['nom', 'prenom', 'birth_rank', 'date_naissance', 'nir', 'montant'], dtype='object')\n",
      " [AnonymizerCore] Application de 'masquage' sur la colonne 'nom'\n",
      "\n",
      " DEBUG - Colonnes du DataFrame : ['nom', 'prenom', 'birth_rank', 'date_naissance', 'nir', 'montant']\n",
      " DEBUG - Colonne recherchée : nom\n",
      "🛡️ [Masquage] Masquage de la colonne 'nom' avec la valeur 'ANONYME'\n",
      "✅ Fichier exporté : results\\masquage_nom.csv\n",
      "✅ Instruction 1/1 appliquée avec succès.\n"
     ]
    }
   ],
   "source": [
    "core = AnonymizerCore(instructions)\n",
    "core.load_tables(\"data\")\n",
    "print(core.dfs[\"data\"].columns) \n",
    "core.run_anonymization()"
   ]
  },
  {
   "cell_type": "code",
   "execution_count": 24,
   "metadata": {},
   "outputs": [
    {
     "ename": "FileNotFoundError",
     "evalue": "Le fichier .\\data\\data.csv est introuvable.",
     "output_type": "error",
     "traceback": [
      "\u001b[1;31m---------------------------------------------------------------------------\u001b[0m",
      "\u001b[1;31mFileNotFoundError\u001b[0m                         Traceback (most recent call last)",
      "Cell \u001b[1;32mIn[24], line 1\u001b[0m\n\u001b[1;32m----> 1\u001b[0m \u001b[43mcore\u001b[49m\u001b[38;5;241;43m.\u001b[39;49m\u001b[43mload_tables\u001b[49m\u001b[43m(\u001b[49m\u001b[43m{\u001b[49m\u001b[38;5;124;43m\"\u001b[39;49m\u001b[38;5;124;43mdata\u001b[39;49m\u001b[38;5;124;43m\"\u001b[39;49m\u001b[43m:\u001b[49m\u001b[43m \u001b[49m\u001b[43mdf\u001b[49m\u001b[43m}\u001b[49m\u001b[43m)\u001b[49m\n\u001b[0;32m      2\u001b[0m core\u001b[38;5;241m.\u001b[39mrun_anonymization()\n",
      "File \u001b[1;32mc:\\Users\\charl\\Downloads\\Pseudonymisation-master\\anonymization-backend\\app\\services\\anonymization\\anonymization_core.py:29\u001b[0m, in \u001b[0;36mAnonymizerCore.load_tables\u001b[1;34m(self, tables)\u001b[0m\n\u001b[0;32m     27\u001b[0m file_path \u001b[38;5;241m=\u001b[39m os\u001b[38;5;241m.\u001b[39mpath\u001b[38;5;241m.\u001b[39mjoin(\u001b[38;5;124m\"\u001b[39m\u001b[38;5;124m.\u001b[39m\u001b[38;5;124m\"\u001b[39m, \u001b[38;5;124m\"\u001b[39m\u001b[38;5;124mdata\u001b[39m\u001b[38;5;124m\"\u001b[39m, \u001b[38;5;124mf\u001b[39m\u001b[38;5;124m\"\u001b[39m\u001b[38;5;132;01m{\u001b[39;00mtable\u001b[38;5;132;01m}\u001b[39;00m\u001b[38;5;124m.csv\u001b[39m\u001b[38;5;124m\"\u001b[39m)\n\u001b[0;32m     28\u001b[0m \u001b[38;5;28;01mif\u001b[39;00m \u001b[38;5;129;01mnot\u001b[39;00m os\u001b[38;5;241m.\u001b[39mpath\u001b[38;5;241m.\u001b[39mexists(file_path):\n\u001b[1;32m---> 29\u001b[0m     \u001b[38;5;28;01mraise\u001b[39;00m \u001b[38;5;167;01mFileNotFoundError\u001b[39;00m(\u001b[38;5;124mf\u001b[39m\u001b[38;5;124m\"\u001b[39m\u001b[38;5;124mLe fichier \u001b[39m\u001b[38;5;132;01m{\u001b[39;00mfile_path\u001b[38;5;132;01m}\u001b[39;00m\u001b[38;5;124m est introuvable.\u001b[39m\u001b[38;5;124m\"\u001b[39m)\n\u001b[0;32m     30\u001b[0m df \u001b[38;5;241m=\u001b[39m pd\u001b[38;5;241m.\u001b[39mread_csv(file_path, sep\u001b[38;5;241m=\u001b[39m\u001b[38;5;124m\"\u001b[39m\u001b[38;5;124m;\u001b[39m\u001b[38;5;124m\"\u001b[39m)\n\u001b[0;32m     31\u001b[0m df\u001b[38;5;241m.\u001b[39mcolumns \u001b[38;5;241m=\u001b[39m [\u001b[38;5;28mstr\u001b[39m(col)\u001b[38;5;241m.\u001b[39mstrip()\u001b[38;5;241m.\u001b[39mlower() \u001b[38;5;28;01mfor\u001b[39;00m col \u001b[38;5;129;01min\u001b[39;00m df\u001b[38;5;241m.\u001b[39mcolumns]\n",
      "\u001b[1;31mFileNotFoundError\u001b[0m: Le fichier .\\data\\data.csv est introuvable."
     ]
    }
   ],
   "source": [
    "core.load_tables({\"data\": df})\n",
    "core.run_anonymization()"
   ]
  },
  {
   "cell_type": "code",
   "execution_count": 8,
   "metadata": {},
   "outputs": [
    {
     "data": {
      "text/html": [
       "<div>\n",
       "<style scoped>\n",
       "    .dataframe tbody tr th:only-of-type {\n",
       "        vertical-align: middle;\n",
       "    }\n",
       "\n",
       "    .dataframe tbody tr th {\n",
       "        vertical-align: top;\n",
       "    }\n",
       "\n",
       "    .dataframe thead th {\n",
       "        text-align: right;\n",
       "    }\n",
       "</style>\n",
       "<table border=\"1\" class=\"dataframe\">\n",
       "  <thead>\n",
       "    <tr style=\"text-align: right;\">\n",
       "      <th></th>\n",
       "      <th>nom</th>\n",
       "      <th>prenom</th>\n",
       "      <th>birth_rank</th>\n",
       "      <th>date_naissance</th>\n",
       "      <th>nir</th>\n",
       "      <th>montant</th>\n",
       "    </tr>\n",
       "  </thead>\n",
       "  <tbody>\n",
       "    <tr>\n",
       "      <th>0</th>\n",
       "      <td>ANONYME</td>\n",
       "      <td>Jean</td>\n",
       "      <td>1</td>\n",
       "      <td>Anonymized</td>\n",
       "      <td>16/10/2003</td>\n",
       "      <td>23</td>\n",
       "    </tr>\n",
       "    <tr>\n",
       "      <th>1</th>\n",
       "      <td>ANONYME</td>\n",
       "      <td>Paul</td>\n",
       "      <td>1</td>\n",
       "      <td>Anonymized</td>\n",
       "      <td>16/10/2003</td>\n",
       "      <td>43</td>\n",
       "    </tr>\n",
       "    <tr>\n",
       "      <th>2</th>\n",
       "      <td>ANONYME</td>\n",
       "      <td>Pierre</td>\n",
       "      <td>3</td>\n",
       "      <td>Anonymized</td>\n",
       "      <td>16/10/2003</td>\n",
       "      <td>87</td>\n",
       "    </tr>\n",
       "    <tr>\n",
       "      <th>3</th>\n",
       "      <td>ANONYME</td>\n",
       "      <td>Franck</td>\n",
       "      <td>4</td>\n",
       "      <td>Anonymized</td>\n",
       "      <td>16/10/2003</td>\n",
       "      <td>67</td>\n",
       "    </tr>\n",
       "    <tr>\n",
       "      <th>4</th>\n",
       "      <td>ANONYME</td>\n",
       "      <td>Steph</td>\n",
       "      <td>1</td>\n",
       "      <td>Anonymized</td>\n",
       "      <td>16/10/2003</td>\n",
       "      <td>987</td>\n",
       "    </tr>\n",
       "  </tbody>\n",
       "</table>\n",
       "</div>"
      ],
      "text/plain": [
       "       nom  prenom  birth_rank date_naissance         nir  montant\n",
       "0  ANONYME    Jean           1     Anonymized  16/10/2003       23\n",
       "1  ANONYME    Paul           1     Anonymized  16/10/2003       43\n",
       "2  ANONYME  Pierre           3     Anonymized  16/10/2003       87\n",
       "3  ANONYME  Franck           4     Anonymized  16/10/2003       67\n",
       "4  ANONYME   Steph           1     Anonymized  16/10/2003      987"
      ]
     },
     "execution_count": 8,
     "metadata": {},
     "output_type": "execute_result"
    }
   ],
   "source": [
    "core.dfs[\"data\"].head()\n"
   ]
  },
  {
   "cell_type": "code",
   "execution_count": 9,
   "metadata": {},
   "outputs": [
    {
     "name": "stdout",
     "output_type": "stream",
     "text": [
      " Fichier exporté avec succès : results/mon_test.csv\n"
     ]
    }
   ],
   "source": [
    "core.export(output_path=\"results/mon_test.csv\")\n"
   ]
  },
  {
   "cell_type": "code",
   "execution_count": 5,
   "metadata": {},
   "outputs": [],
   "source": [
    "instructions = [\n",
    "    {\"table\": \"data\", \"column\": \"prenom\", \"moteur\": \"remplacement\"},\n",
    "    {\"table\": \"data\", \"column\": \"nom\", \"moteur\": \"remplacement\"}\n",
    "]\n"
   ]
  },
  {
   "cell_type": "code",
   "execution_count": 7,
   "metadata": {},
   "outputs": [
    {
     "name": "stdout",
     "output_type": "stream",
     "text": [
      "Chemin complet utilisé pour charger le fichier : c:\\Users\\charl\\Downloads\\Pseudonymisation-master\\anonymization-backend\\data\\data.csv\n",
      "Table 'data' chargée avec succès. ['data']\n",
      " [AnonymizerCore] Application de 'remplacement' sur la colonne 'prenom'\n",
      " Annuaire chargé : ['a', 'aadam', 'aadel', 'aadhiran', 'aadil', 'aahil', 'aakash', 'aali', 'aamir', 'aaran']\n",
      " [Remplacement] jean -> joselita\n",
      " [Remplacement] paul -> heykel\n",
      " [Remplacement] pierre -> auristelle\n",
      " [Remplacement] franck -> coline\n",
      " [Remplacement] steph -> carmelo\n",
      "✅ Fichier exporté : results\\remplacement_prenom.csv\n",
      "✅ Instruction 1/2 appliquée avec succès.\n",
      " [AnonymizerCore] Application de 'remplacement' sur la colonne 'nom'\n",
      " Annuaire chargé : ['aabi', 'aabid', 'aalberg', 'aamara', 'aarab', 'aarnink', 'aaron', 'aarras', 'aatar', 'aatif']\n",
      " [Remplacement] toto -> benmebrouk\n",
      " [Remplacement] tata -> tecchio\n",
      " [Remplacement] titi -> notarnicola\n",
      " [Remplacement] tutu -> cavalier\n",
      " [Remplacement] tete -> thiphineau\n",
      "✅ Fichier exporté : results\\remplacement_nom.csv\n",
      "✅ Instruction 2/2 appliquée avec succès.\n",
      " Fichier exporté avec succès : results/mon_export_complet.csv\n"
     ]
    }
   ],
   "source": [
    "# 1. Créer l'objet\n",
    "core = AnonymizerCore(instructions)\n",
    "\n",
    "# 2. Charger les tables\n",
    "core.load_tables(\"data\")\n",
    "\n",
    "# 3. Lancer l'anonymisation\n",
    "core.run_anonymization()\n",
    "\n",
    "# 4. Visualiser le résultat\n",
    "df_result = core.get_table(\"data\")\n",
    "df_result.head()\n",
    "core.export(output_path=\"results/mon_export_complet.csv\")\n",
    "\n"
   ]
  },
  {
   "cell_type": "code",
   "execution_count": 3,
   "metadata": {},
   "outputs": [],
   "source": [
    "instructions = [\n",
    "    {\"table\": \"data\", \"column\": \"montant\", \"moteur\": \"arrondit\"}\n",
    "]\n"
   ]
  },
  {
   "cell_type": "code",
   "execution_count": 4,
   "metadata": {},
   "outputs": [
    {
     "name": "stdout",
     "output_type": "stream",
     "text": [
      "Table 'data' chargée avec succès. Lignes : 5 /Colonnes : ['nom', 'prenom', 'birth_rank', 'date_naissance', 'nir', 'montant']\n",
      " [AnonymizerCore] Application de 'arrondit' sur la colonne 'montant'\n",
      "🧮 [Arrondit] Arrondi des valeurs dans la colonne 'montant'\n",
      "✅ Fichier exporté : results\\arrondit_montant.csv\n",
      "✅ Instruction 1/1 appliquée avec succès.\n"
     ]
    },
    {
     "data": {
      "text/html": [
       "<div>\n",
       "<style scoped>\n",
       "    .dataframe tbody tr th:only-of-type {\n",
       "        vertical-align: middle;\n",
       "    }\n",
       "\n",
       "    .dataframe tbody tr th {\n",
       "        vertical-align: top;\n",
       "    }\n",
       "\n",
       "    .dataframe thead th {\n",
       "        text-align: right;\n",
       "    }\n",
       "</style>\n",
       "<table border=\"1\" class=\"dataframe\">\n",
       "  <thead>\n",
       "    <tr style=\"text-align: right;\">\n",
       "      <th></th>\n",
       "      <th>nom</th>\n",
       "      <th>prenom</th>\n",
       "      <th>birth_rank</th>\n",
       "      <th>date_naissance</th>\n",
       "      <th>nir</th>\n",
       "      <th>montant</th>\n",
       "    </tr>\n",
       "  </thead>\n",
       "  <tbody>\n",
       "    <tr>\n",
       "      <th>0</th>\n",
       "      <td>Toto</td>\n",
       "      <td>Jean</td>\n",
       "      <td>1</td>\n",
       "      <td>Anonymized</td>\n",
       "      <td>16/10/2003</td>\n",
       "      <td>30</td>\n",
       "    </tr>\n",
       "    <tr>\n",
       "      <th>1</th>\n",
       "      <td>Tata</td>\n",
       "      <td>Paul</td>\n",
       "      <td>1</td>\n",
       "      <td>Anonymized</td>\n",
       "      <td>16/10/2003</td>\n",
       "      <td>50</td>\n",
       "    </tr>\n",
       "    <tr>\n",
       "      <th>2</th>\n",
       "      <td>Titi</td>\n",
       "      <td>Pierre</td>\n",
       "      <td>3</td>\n",
       "      <td>Anonymized</td>\n",
       "      <td>16/10/2003</td>\n",
       "      <td>90</td>\n",
       "    </tr>\n",
       "    <tr>\n",
       "      <th>3</th>\n",
       "      <td>Tutu</td>\n",
       "      <td>Franck</td>\n",
       "      <td>4</td>\n",
       "      <td>Anonymized</td>\n",
       "      <td>16/10/2003</td>\n",
       "      <td>70</td>\n",
       "    </tr>\n",
       "    <tr>\n",
       "      <th>4</th>\n",
       "      <td>Tete</td>\n",
       "      <td>Steph</td>\n",
       "      <td>1</td>\n",
       "      <td>Anonymized</td>\n",
       "      <td>16/10/2003</td>\n",
       "      <td>1000</td>\n",
       "    </tr>\n",
       "  </tbody>\n",
       "</table>\n",
       "</div>"
      ],
      "text/plain": [
       "    nom  prenom  birth_rank date_naissance         nir  montant\n",
       "0  Toto    Jean           1     Anonymized  16/10/2003       30\n",
       "1  Tata    Paul           1     Anonymized  16/10/2003       50\n",
       "2  Titi  Pierre           3     Anonymized  16/10/2003       90\n",
       "3  Tutu  Franck           4     Anonymized  16/10/2003       70\n",
       "4  Tete   Steph           1     Anonymized  16/10/2003     1000"
      ]
     },
     "execution_count": 4,
     "metadata": {},
     "output_type": "execute_result"
    }
   ],
   "source": [
    "# 1. Créer l'objet avec les instructions\n",
    "core = AnonymizerCore(instructions)\n",
    "\n",
    "# 2. Charger les tables\n",
    "core.load_tables()\n",
    "\n",
    "# 3. Lancer l'anonymisation\n",
    "core.run_anonymization()\n",
    "\n",
    "# 4. Afficher le résultat\n",
    "df_result = core.get_table(\"data\")\n",
    "df_result.head()  # ou display(df_result) si tu veux\n"
   ]
  },
  {
   "cell_type": "code",
   "execution_count": 5,
   "metadata": {},
   "outputs": [],
   "source": [
    "instructions = [\n",
    "    {\"table\": \"data\", \"column\": \"date_naissance\", \"moteur\": \"generalisation_date\"}\n",
    "]\n"
   ]
  },
  {
   "cell_type": "code",
   "execution_count": 6,
   "metadata": {},
   "outputs": [
    {
     "name": "stdout",
     "output_type": "stream",
     "text": [
      "Table 'data' chargée avec succès. Lignes : 5 /Colonnes : ['nom', 'prenom', 'birth_rank', 'date_naissance', 'nir', 'montant']\n",
      " [AnonymizerCore] Application de 'generalisation_date' sur la colonne 'date_naissance'\n",
      "📅 [GeneralisationDate] Généralisation de la colonne 'date_naissance'\n",
      "⚠️ Date invalide ignorée : Anonymized\n",
      "⚠️ Date invalide ignorée : Anonymized\n",
      "⚠️ Date invalide ignorée : Anonymized\n",
      "⚠️ Date invalide ignorée : Anonymized\n",
      "⚠️ Date invalide ignorée : Anonymized\n",
      "✅ Fichier exporté : results\\generalisation_date_date_naissance.csv\n",
      "✅ Instruction 1/1 appliquée avec succès.\n"
     ]
    },
    {
     "data": {
      "text/html": [
       "<div>\n",
       "<style scoped>\n",
       "    .dataframe tbody tr th:only-of-type {\n",
       "        vertical-align: middle;\n",
       "    }\n",
       "\n",
       "    .dataframe tbody tr th {\n",
       "        vertical-align: top;\n",
       "    }\n",
       "\n",
       "    .dataframe thead th {\n",
       "        text-align: right;\n",
       "    }\n",
       "</style>\n",
       "<table border=\"1\" class=\"dataframe\">\n",
       "  <thead>\n",
       "    <tr style=\"text-align: right;\">\n",
       "      <th></th>\n",
       "      <th>nom</th>\n",
       "      <th>prenom</th>\n",
       "      <th>birth_rank</th>\n",
       "      <th>date_naissance</th>\n",
       "      <th>nir</th>\n",
       "      <th>montant</th>\n",
       "    </tr>\n",
       "  </thead>\n",
       "  <tbody>\n",
       "    <tr>\n",
       "      <th>0</th>\n",
       "      <td>Toto</td>\n",
       "      <td>Jean</td>\n",
       "      <td>1</td>\n",
       "      <td>Anonymized</td>\n",
       "      <td>16/10/2003</td>\n",
       "      <td>23</td>\n",
       "    </tr>\n",
       "    <tr>\n",
       "      <th>1</th>\n",
       "      <td>Tata</td>\n",
       "      <td>Paul</td>\n",
       "      <td>1</td>\n",
       "      <td>Anonymized</td>\n",
       "      <td>16/10/2003</td>\n",
       "      <td>43</td>\n",
       "    </tr>\n",
       "    <tr>\n",
       "      <th>2</th>\n",
       "      <td>Titi</td>\n",
       "      <td>Pierre</td>\n",
       "      <td>3</td>\n",
       "      <td>Anonymized</td>\n",
       "      <td>16/10/2003</td>\n",
       "      <td>87</td>\n",
       "    </tr>\n",
       "    <tr>\n",
       "      <th>3</th>\n",
       "      <td>Tutu</td>\n",
       "      <td>Franck</td>\n",
       "      <td>4</td>\n",
       "      <td>Anonymized</td>\n",
       "      <td>16/10/2003</td>\n",
       "      <td>67</td>\n",
       "    </tr>\n",
       "    <tr>\n",
       "      <th>4</th>\n",
       "      <td>Tete</td>\n",
       "      <td>Steph</td>\n",
       "      <td>1</td>\n",
       "      <td>Anonymized</td>\n",
       "      <td>16/10/2003</td>\n",
       "      <td>987</td>\n",
       "    </tr>\n",
       "  </tbody>\n",
       "</table>\n",
       "</div>"
      ],
      "text/plain": [
       "    nom  prenom  birth_rank date_naissance         nir  montant\n",
       "0  Toto    Jean           1     Anonymized  16/10/2003       23\n",
       "1  Tata    Paul           1     Anonymized  16/10/2003       43\n",
       "2  Titi  Pierre           3     Anonymized  16/10/2003       87\n",
       "3  Tutu  Franck           4     Anonymized  16/10/2003       67\n",
       "4  Tete   Steph           1     Anonymized  16/10/2003      987"
      ]
     },
     "execution_count": 6,
     "metadata": {},
     "output_type": "execute_result"
    }
   ],
   "source": [
    "core = AnonymizerCore(instructions)\n",
    "core.load_tables()\n",
    "core.run_anonymization()\n",
    "\n",
    "# Affichage du DataFrame modifié\n",
    "df_result = core.get_table(\"data\")\n",
    "df_result.head()\n"
   ]
  },
  {
   "cell_type": "code",
   "execution_count": null,
   "metadata": {},
   "outputs": [],
   "source": []
  }
 ],
 "metadata": {
  "kernelspec": {
   "display_name": "Python 3",
   "language": "python",
   "name": "python3"
  },
  "language_info": {
   "codemirror_mode": {
    "name": "ipython",
    "version": 3
   },
   "file_extension": ".py",
   "mimetype": "text/x-python",
   "name": "python",
   "nbconvert_exporter": "python",
   "pygments_lexer": "ipython3",
   "version": "3.12.2"
  }
 },
 "nbformat": 4,
 "nbformat_minor": 2
}
